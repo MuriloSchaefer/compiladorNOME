{
 "cells": [
  {
   "cell_type": "code",
   "execution_count": null,
   "metadata": {
    "collapsed": true
   },
   "outputs": [],
   "source": []
  },
  {
   "cell_type": "code",
   "execution_count": 6,
   "metadata": {},
   "outputs": [
    {
     "name": "stdout",
     "output_type": "stream",
     "text": [
      "['(Pal_res, int)', '(Id, #agoravai)', '(Atrb, =)', '(Op_arit, -)', '(Num, 5)', '(Ponto_e_virgula, ', ')', '(Pal_res, int)', '(Id, #botofe)', '(Atrb, =)', '(Id, #agoravai)', '(Ponto_e_virgula, ', ')', '(Pal_res, for)', '(Abre_parenteses, ()', '(Id, #agoravai)', '(Atrb, =)', '(Num, 0)', '(Ponto_e_virgula, ', ')', '(Id, #agoravai)', '(Op_rel, L)', '(Num, 100)', '(Ponto_e_virgula, ', ')', '(Id, #agoravai)', '(Atrb, =)', '(Id, #agoravai)', '(Op_arit, +)', '(Num, 1)', '(Fecha_parenteses, ))', '(Abre_chaves, {)', '(Id, #botofe)', '(Atrb, =)', '(Id, #botofe)', '(Op_arit, *)', '(Id, #agoravai)', '(Ponto_e_virgula, ', ')', '(Fecha_chaves, })', '(Pal_res, while)', '(Abre_parenteses, ()', '(Id, #agoravai)', '(Atrb, =)', '(Op_arit, +)', '(Num, 0)', '(Fecha_parenteses, ))', '(Abre_chaves, {)', '(Pal_res, switch)', '(Abre_parenteses, ()', '(Id, #botofe)', '(Fecha_parenteses, ))', '(Abre_chaves, {)', '(Pal_res, case)', '(Pal_res, true)', '(Dois_pontos, :)', '(Pal_res, printf)', '(Abre_parenteses, ()', \"(Char, 'T')\", '(Fecha_parenteses, ))', '(Ponto_e_virgula, ', ')', '(Pal_res, case)', '(Pal_res, false)', '(Dois_pontos, :)', '(Pal_res, printf)', '(Abre_parenteses, ()', \"(Char, '@')\", '(Fecha_parenteses, ))', '(Ponto_e_virgula, ', ')', '(Fecha_chaves, })', '(Fecha_chaves, })']\n"
     ]
    },
    {
     "data": {
      "text/plain": [
       "[['(Pal_res', ' int)'],\n",
       " ['(Id', ' #agoravai)'],\n",
       " ['(Atrb', ' =)'],\n",
       " ['(Op_arit', ' -)'],\n",
       " ['(Num', ' 5)'],\n",
       " ['(Ponto_e_virgula', ' '],\n",
       " [')'],\n",
       " ['(Pal_res', ' int)'],\n",
       " ['(Id', ' #botofe)'],\n",
       " ['(Atrb', ' =)'],\n",
       " ['(Id', ' #agoravai)'],\n",
       " ['(Ponto_e_virgula', ' '],\n",
       " [')'],\n",
       " ['(Pal_res', ' for)'],\n",
       " ['(Abre_parenteses', ' ()'],\n",
       " ['(Id', ' #agoravai)'],\n",
       " ['(Atrb', ' =)'],\n",
       " ['(Num', ' 0)'],\n",
       " ['(Ponto_e_virgula', ' '],\n",
       " [')'],\n",
       " ['(Id', ' #agoravai)'],\n",
       " ['(Op_rel', ' L)'],\n",
       " ['(Num', ' 100)'],\n",
       " ['(Ponto_e_virgula', ' '],\n",
       " [')'],\n",
       " ['(Id', ' #agoravai)'],\n",
       " ['(Atrb', ' =)'],\n",
       " ['(Id', ' #agoravai)'],\n",
       " ['(Op_arit', ' +)'],\n",
       " ['(Num', ' 1)'],\n",
       " ['(Fecha_parenteses', ' ))'],\n",
       " ['(Abre_chaves', ' {)'],\n",
       " ['(Id', ' #botofe)'],\n",
       " ['(Atrb', ' =)'],\n",
       " ['(Id', ' #botofe)'],\n",
       " ['(Op_arit', ' *)'],\n",
       " ['(Id', ' #agoravai)'],\n",
       " ['(Ponto_e_virgula', ' '],\n",
       " [')'],\n",
       " ['(Fecha_chaves', ' })'],\n",
       " ['(Pal_res', ' while)'],\n",
       " ['(Abre_parenteses', ' ()'],\n",
       " ['(Id', ' #agoravai)'],\n",
       " ['(Atrb', ' =)'],\n",
       " ['(Op_arit', ' +)'],\n",
       " ['(Num', ' 0)'],\n",
       " ['(Fecha_parenteses', ' ))'],\n",
       " ['(Abre_chaves', ' {)'],\n",
       " ['(Pal_res', ' switch)'],\n",
       " ['(Abre_parenteses', ' ()'],\n",
       " ['(Id', ' #botofe)'],\n",
       " ['(Fecha_parenteses', ' ))'],\n",
       " ['(Abre_chaves', ' {)'],\n",
       " ['(Pal_res', ' case)'],\n",
       " ['(Pal_res', ' true)'],\n",
       " ['(Dois_pontos', ' :)'],\n",
       " ['(Pal_res', ' printf)'],\n",
       " ['(Abre_parenteses', ' ()'],\n",
       " ['(Char', \" 'T')\"],\n",
       " ['(Fecha_parenteses', ' ))'],\n",
       " ['(Ponto_e_virgula', ' '],\n",
       " [')'],\n",
       " ['(Pal_res', ' case)'],\n",
       " ['(Pal_res', ' false)'],\n",
       " ['(Dois_pontos', ' :)'],\n",
       " ['(Pal_res', ' printf)'],\n",
       " ['(Abre_parenteses', ' ()'],\n",
       " ['(Char', \" '@')\"],\n",
       " ['(Fecha_parenteses', ' ))'],\n",
       " ['(Ponto_e_virgula', ' '],\n",
       " [')'],\n",
       " ['(Fecha_chaves', ' })'],\n",
       " ['(Fecha_chaves', ' })']]"
      ]
     },
     "execution_count": 6,
     "metadata": {},
     "output_type": "execute_result"
    }
   ],
   "source": [
    "filename = \"testes/tokens\"\n",
    "with open(filename) as f:\n",
    "    line = f.readlines()\n",
    "tokens = line[0].split(';')\n",
    "print(tokens)\n",
    "lista_tokens = []\n",
    "for token in tokens:\n",
    "    token = token.split(',')\n",
    "    lista_tokens.append(token)\n",
    "lista_tokens"
   ]
  },
  {
   "cell_type": "code",
   "execution_count": null,
   "metadata": {
    "collapsed": true
   },
   "outputs": [],
   "source": []
  }
 ],
 "metadata": {
  "kernelspec": {
   "display_name": "Python 3",
   "language": "python",
   "name": "python3"
  },
  "language_info": {
   "codemirror_mode": {
    "name": "ipython",
    "version": 3
   },
   "file_extension": ".py",
   "mimetype": "text/x-python",
   "name": "python",
   "nbconvert_exporter": "python",
   "pygments_lexer": "ipython3",
   "version": "3.6.2"
  }
 },
 "nbformat": 4,
 "nbformat_minor": 2
}
